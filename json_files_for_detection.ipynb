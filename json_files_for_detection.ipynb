{
 "cells": [
  {
   "cell_type": "code",
   "execution_count": 1,
   "metadata": {
    "code_folding": []
   },
   "outputs": [],
   "source": [
    "# Import libraries\n",
    "import os\n",
    "os.environ['TF_CPP_MIN_LOG_LEVEL'] = '3'\n",
    "import numpy as np\n",
    "import pathlib\n",
    "import pandas as pd\n",
    "import tensorflow as tf\n",
    "import tensorflow_addons as tfa\n",
    "tf.get_logger().setLevel('INFO')\n",
    "\n",
    "from joblib import Parallel, delayed\n",
    "import warnings\n",
    "warnings.filterwarnings('ignore')\n",
    "import PIL\n",
    "import cv2\n",
    "import matplotlib.pyplot as plt\n",
    "import ast\n",
    "import random\n",
    "import sys\n",
    "import pydicom\n",
    "from pydicom.pixel_data_handlers.util import apply_voi_lut\n",
    "# Appending to sys paths\n",
    "effnet_path = os.path.join(os.getcwd(), 'efficientdetv2')\n",
    "sys.path.append(effnet_path)\n",
    "sys.path.append(os.path.join(os.getcwd(), 'efficientdetv2', 'automl', 'efficientdet'))"
   ]
  },
  {
   "cell_type": "code",
   "execution_count": 31,
   "metadata": {},
   "outputs": [],
   "source": [
    "from efficientdetv2.automl.efficientdet.dataset import create_covid_19_tfrecord as cct"
   ]
  },
  {
   "cell_type": "code",
   "execution_count": 4,
   "metadata": {},
   "outputs": [],
   "source": [
    "data_path = r'D:\\Datasets\\siim_covid19_detection'\n",
    "train_image_level = pd.read_csv(os.path.join(data_path , 'train_image_level.csv'))\n",
    "train_study_level = pd.read_csv(os.path.join(data_path, 'train_study_level.csv'))"
   ]
  },
  {
   "cell_type": "code",
   "execution_count": 5,
   "metadata": {},
   "outputs": [
    {
     "data": {
      "text/html": [
       "<div>\n",
       "<style scoped>\n",
       "    .dataframe tbody tr th:only-of-type {\n",
       "        vertical-align: middle;\n",
       "    }\n",
       "\n",
       "    .dataframe tbody tr th {\n",
       "        vertical-align: top;\n",
       "    }\n",
       "\n",
       "    .dataframe thead th {\n",
       "        text-align: right;\n",
       "    }\n",
       "</style>\n",
       "<table border=\"1\" class=\"dataframe\">\n",
       "  <thead>\n",
       "    <tr style=\"text-align: right;\">\n",
       "      <th></th>\n",
       "      <th>id</th>\n",
       "      <th>boxes</th>\n",
       "      <th>label</th>\n",
       "      <th>StudyInstanceUID</th>\n",
       "    </tr>\n",
       "  </thead>\n",
       "  <tbody>\n",
       "    <tr>\n",
       "      <th>0</th>\n",
       "      <td>000a312787f2_image</td>\n",
       "      <td>[{'x': 789.28836, 'y': 582.43035, 'width': 102...</td>\n",
       "      <td>opacity 1 789.28836 582.43035 1815.94498 2499....</td>\n",
       "      <td>5776db0cec75</td>\n",
       "    </tr>\n",
       "    <tr>\n",
       "      <th>1</th>\n",
       "      <td>000c3a3f293f_image</td>\n",
       "      <td>NaN</td>\n",
       "      <td>none 1 0 0 1 1</td>\n",
       "      <td>ff0879eb20ed</td>\n",
       "    </tr>\n",
       "    <tr>\n",
       "      <th>2</th>\n",
       "      <td>0012ff7358bc_image</td>\n",
       "      <td>[{'x': 677.42216, 'y': 197.97662, 'width': 867...</td>\n",
       "      <td>opacity 1 677.42216 197.97662 1545.21983 1197....</td>\n",
       "      <td>9d514ce429a7</td>\n",
       "    </tr>\n",
       "    <tr>\n",
       "      <th>3</th>\n",
       "      <td>001398f4ff4f_image</td>\n",
       "      <td>[{'x': 2729, 'y': 2181.33331, 'width': 948.000...</td>\n",
       "      <td>opacity 1 2729 2181.33331 3677.00012 2785.33331</td>\n",
       "      <td>28dddc8559b2</td>\n",
       "    </tr>\n",
       "    <tr>\n",
       "      <th>4</th>\n",
       "      <td>001bd15d1891_image</td>\n",
       "      <td>[{'x': 623.23328, 'y': 1050, 'width': 714, 'he...</td>\n",
       "      <td>opacity 1 623.23328 1050 1337.23328 2156 opaci...</td>\n",
       "      <td>dfd9fdd85a3e</td>\n",
       "    </tr>\n",
       "  </tbody>\n",
       "</table>\n",
       "</div>"
      ],
      "text/plain": [
       "                   id                                              boxes  \\\n",
       "0  000a312787f2_image  [{'x': 789.28836, 'y': 582.43035, 'width': 102...   \n",
       "1  000c3a3f293f_image                                                NaN   \n",
       "2  0012ff7358bc_image  [{'x': 677.42216, 'y': 197.97662, 'width': 867...   \n",
       "3  001398f4ff4f_image  [{'x': 2729, 'y': 2181.33331, 'width': 948.000...   \n",
       "4  001bd15d1891_image  [{'x': 623.23328, 'y': 1050, 'width': 714, 'he...   \n",
       "\n",
       "                                               label StudyInstanceUID  \n",
       "0  opacity 1 789.28836 582.43035 1815.94498 2499....     5776db0cec75  \n",
       "1                                     none 1 0 0 1 1     ff0879eb20ed  \n",
       "2  opacity 1 677.42216 197.97662 1545.21983 1197....     9d514ce429a7  \n",
       "3    opacity 1 2729 2181.33331 3677.00012 2785.33331     28dddc8559b2  \n",
       "4  opacity 1 623.23328 1050 1337.23328 2156 opaci...     dfd9fdd85a3e  "
      ]
     },
     "execution_count": 5,
     "metadata": {},
     "output_type": "execute_result"
    }
   ],
   "source": [
    "train_image_level.head()"
   ]
  },
  {
   "cell_type": "code",
   "execution_count": 6,
   "metadata": {},
   "outputs": [
    {
     "data": {
      "text/html": [
       "<div>\n",
       "<style scoped>\n",
       "    .dataframe tbody tr th:only-of-type {\n",
       "        vertical-align: middle;\n",
       "    }\n",
       "\n",
       "    .dataframe tbody tr th {\n",
       "        vertical-align: top;\n",
       "    }\n",
       "\n",
       "    .dataframe thead th {\n",
       "        text-align: right;\n",
       "    }\n",
       "</style>\n",
       "<table border=\"1\" class=\"dataframe\">\n",
       "  <thead>\n",
       "    <tr style=\"text-align: right;\">\n",
       "      <th></th>\n",
       "      <th>id</th>\n",
       "      <th>Negative for Pneumonia</th>\n",
       "      <th>Typical Appearance</th>\n",
       "      <th>Indeterminate Appearance</th>\n",
       "      <th>Atypical Appearance</th>\n",
       "    </tr>\n",
       "  </thead>\n",
       "  <tbody>\n",
       "    <tr>\n",
       "      <th>0</th>\n",
       "      <td>00086460a852_study</td>\n",
       "      <td>0</td>\n",
       "      <td>1</td>\n",
       "      <td>0</td>\n",
       "      <td>0</td>\n",
       "    </tr>\n",
       "    <tr>\n",
       "      <th>1</th>\n",
       "      <td>000c9c05fd14_study</td>\n",
       "      <td>0</td>\n",
       "      <td>0</td>\n",
       "      <td>0</td>\n",
       "      <td>1</td>\n",
       "    </tr>\n",
       "    <tr>\n",
       "      <th>2</th>\n",
       "      <td>00292f8c37bd_study</td>\n",
       "      <td>1</td>\n",
       "      <td>0</td>\n",
       "      <td>0</td>\n",
       "      <td>0</td>\n",
       "    </tr>\n",
       "    <tr>\n",
       "      <th>3</th>\n",
       "      <td>005057b3f880_study</td>\n",
       "      <td>1</td>\n",
       "      <td>0</td>\n",
       "      <td>0</td>\n",
       "      <td>0</td>\n",
       "    </tr>\n",
       "    <tr>\n",
       "      <th>4</th>\n",
       "      <td>0051d9b12e72_study</td>\n",
       "      <td>0</td>\n",
       "      <td>0</td>\n",
       "      <td>0</td>\n",
       "      <td>1</td>\n",
       "    </tr>\n",
       "  </tbody>\n",
       "</table>\n",
       "</div>"
      ],
      "text/plain": [
       "                   id  Negative for Pneumonia  Typical Appearance  \\\n",
       "0  00086460a852_study                       0                   1   \n",
       "1  000c9c05fd14_study                       0                   0   \n",
       "2  00292f8c37bd_study                       1                   0   \n",
       "3  005057b3f880_study                       1                   0   \n",
       "4  0051d9b12e72_study                       0                   0   \n",
       "\n",
       "   Indeterminate Appearance  Atypical Appearance  \n",
       "0                         0                    0  \n",
       "1                         0                    1  \n",
       "2                         0                    0  \n",
       "3                         0                    0  \n",
       "4                         0                    1  "
      ]
     },
     "execution_count": 6,
     "metadata": {},
     "output_type": "execute_result"
    }
   ],
   "source": [
    "train_study_level.head()"
   ]
  },
  {
   "cell_type": "code",
   "execution_count": 7,
   "metadata": {
    "scrolled": true
   },
   "outputs": [
    {
     "data": {
      "text/plain": [
       "((6334, 4), (6054, 5))"
      ]
     },
     "execution_count": 7,
     "metadata": {},
     "output_type": "execute_result"
    }
   ],
   "source": [
    "train_image_level.shape, train_study_level.shape"
   ]
  },
  {
   "cell_type": "code",
   "execution_count": 8,
   "metadata": {},
   "outputs": [],
   "source": [
    "dicom_dir = pathlib.Path(os.path.join(data_path, 'train'))\n",
    "dicom_train_paths = list(dicom_dir.glob(\"*/*/*\"))\n",
    "with open('dicom_train_paths.txt', 'w') as train_paths:\n",
    "    train_paths.write(str(dicom_train_paths))"
   ]
  },
  {
   "cell_type": "code",
   "execution_count": 9,
   "metadata": {},
   "outputs": [
    {
     "name": "stdout",
     "output_type": "stream",
     "text": [
      "Total number of image level files: 6334\n"
     ]
    }
   ],
   "source": [
    "print(f'Total number of image level files: {len(dicom_train_paths)}')"
   ]
  },
  {
   "cell_type": "markdown",
   "metadata": {},
   "source": [
    "### Creating meta df"
   ]
  },
  {
   "cell_type": "code",
   "execution_count": 10,
   "metadata": {},
   "outputs": [
    {
     "data": {
      "text/plain": [
       "[WindowsPath('D:/Datasets/siim_covid19_detection/train/00086460a852/9e8302230c91/65761e66de9f.dcm'),\n",
       " WindowsPath('D:/Datasets/siim_covid19_detection/train/000c9c05fd14/e555410bd2cd/51759b5579bc.dcm'),\n",
       " WindowsPath('D:/Datasets/siim_covid19_detection/train/00292f8c37bd/73120b4a13cb/f6293b1c49e2.dcm'),\n",
       " WindowsPath('D:/Datasets/siim_covid19_detection/train/005057b3f880/e34afce999c5/3019399c31f4.dcm'),\n",
       " WindowsPath('D:/Datasets/siim_covid19_detection/train/0051d9b12e72/152f6ec68d86/bb4b1da810f3.dcm')]"
      ]
     },
     "execution_count": 10,
     "metadata": {},
     "output_type": "execute_result"
    }
   ],
   "source": [
    "dicom_train_paths[:5]"
   ]
  },
  {
   "cell_type": "code",
   "execution_count": 11,
   "metadata": {},
   "outputs": [],
   "source": [
    "def read_xray(path, voi_lut = True, fix_monochrome = True):\n",
    "    # Original from: https://www.kaggle.com/raddar/convert-dicom-to-np-array-the-correct-way\n",
    "    dicom = pydicom.read_file(path)\n",
    "    \n",
    "    # VOI LUT (if available by DICOM device) is used to transform raw DICOM data to \n",
    "    # \"human-friendly\" view\n",
    "    if voi_lut:\n",
    "        data = apply_voi_lut(dicom.pixel_array, dicom)\n",
    "    else:\n",
    "        data = dicom.pixel_array\n",
    "               \n",
    "    # depending on this value, X-ray may look inverted - fix that:\n",
    "    if fix_monochrome and dicom.PhotometricInterpretation == \"MONOCHROME1\":\n",
    "        data = np.amax(data) - data\n",
    "        \n",
    "    data = data - np.min(data)\n",
    "    data = data / np.max(data)\n",
    "    data = (data * 255).astype(np.uint8)\n",
    "        \n",
    "    return data"
   ]
  },
  {
   "cell_type": "code",
   "execution_count": 12,
   "metadata": {},
   "outputs": [],
   "source": [
    "columns = ['Height', 'Width', 'Sex']\n",
    "meta_df = pd.DataFrame(index=train_image_level.id)\n",
    "for col in columns:\n",
    "    meta_df.loc[:, col] = -1\n",
    "\n",
    "for index, image_path in enumerate(dicom_train_paths):\n",
    "    file_name = str(image_path).split(os.sep)[-1]\n",
    "    image_id = file_name.split('.')[0] + '_image'\n",
    "    img = pydicom.dcmread(image_path)\n",
    "    meta_df.loc[image_id, :] = [img.Rows, img.Columns, img.PatientSex]"
   ]
  },
  {
   "cell_type": "code",
   "execution_count": 13,
   "metadata": {},
   "outputs": [
    {
     "data": {
      "text/html": [
       "<div>\n",
       "<style scoped>\n",
       "    .dataframe tbody tr th:only-of-type {\n",
       "        vertical-align: middle;\n",
       "    }\n",
       "\n",
       "    .dataframe tbody tr th {\n",
       "        vertical-align: top;\n",
       "    }\n",
       "\n",
       "    .dataframe thead th {\n",
       "        text-align: right;\n",
       "    }\n",
       "</style>\n",
       "<table border=\"1\" class=\"dataframe\">\n",
       "  <thead>\n",
       "    <tr style=\"text-align: right;\">\n",
       "      <th></th>\n",
       "      <th>Height</th>\n",
       "      <th>Width</th>\n",
       "      <th>Sex</th>\n",
       "    </tr>\n",
       "    <tr>\n",
       "      <th>id</th>\n",
       "      <th></th>\n",
       "      <th></th>\n",
       "      <th></th>\n",
       "    </tr>\n",
       "  </thead>\n",
       "  <tbody>\n",
       "    <tr>\n",
       "      <th>000a312787f2_image</th>\n",
       "      <td>3488</td>\n",
       "      <td>4256</td>\n",
       "      <td>M</td>\n",
       "    </tr>\n",
       "    <tr>\n",
       "      <th>000c3a3f293f_image</th>\n",
       "      <td>2320</td>\n",
       "      <td>2832</td>\n",
       "      <td>M</td>\n",
       "    </tr>\n",
       "    <tr>\n",
       "      <th>0012ff7358bc_image</th>\n",
       "      <td>2544</td>\n",
       "      <td>3056</td>\n",
       "      <td>F</td>\n",
       "    </tr>\n",
       "    <tr>\n",
       "      <th>001398f4ff4f_image</th>\n",
       "      <td>3520</td>\n",
       "      <td>4280</td>\n",
       "      <td>F</td>\n",
       "    </tr>\n",
       "    <tr>\n",
       "      <th>001bd15d1891_image</th>\n",
       "      <td>2800</td>\n",
       "      <td>3408</td>\n",
       "      <td>M</td>\n",
       "    </tr>\n",
       "  </tbody>\n",
       "</table>\n",
       "</div>"
      ],
      "text/plain": [
       "                    Height  Width Sex\n",
       "id                                   \n",
       "000a312787f2_image    3488   4256   M\n",
       "000c3a3f293f_image    2320   2832   M\n",
       "0012ff7358bc_image    2544   3056   F\n",
       "001398f4ff4f_image    3520   4280   F\n",
       "001bd15d1891_image    2800   3408   M"
      ]
     },
     "execution_count": 13,
     "metadata": {},
     "output_type": "execute_result"
    }
   ],
   "source": [
    "meta_df.head()"
   ]
  },
  {
   "cell_type": "code",
   "execution_count": 14,
   "metadata": {},
   "outputs": [],
   "source": [
    "train_image_level['StudyInstanceUID'] = train_image_level['StudyInstanceUID'] + '_study'"
   ]
  },
  {
   "cell_type": "code",
   "execution_count": 15,
   "metadata": {},
   "outputs": [],
   "source": [
    "train_image_level['label_class'] = [i[0] for i in train_image_level['label'].str.split(' ')]"
   ]
  },
  {
   "cell_type": "code",
   "execution_count": 16,
   "metadata": {},
   "outputs": [
    {
     "data": {
      "text/html": [
       "<div>\n",
       "<style scoped>\n",
       "    .dataframe tbody tr th:only-of-type {\n",
       "        vertical-align: middle;\n",
       "    }\n",
       "\n",
       "    .dataframe tbody tr th {\n",
       "        vertical-align: top;\n",
       "    }\n",
       "\n",
       "    .dataframe thead th {\n",
       "        text-align: right;\n",
       "    }\n",
       "</style>\n",
       "<table border=\"1\" class=\"dataframe\">\n",
       "  <thead>\n",
       "    <tr style=\"text-align: right;\">\n",
       "      <th></th>\n",
       "      <th>Image_id</th>\n",
       "      <th>boxes</th>\n",
       "      <th>label</th>\n",
       "      <th>StudyInstanceUID</th>\n",
       "      <th>label_class</th>\n",
       "      <th>Negative for Pneumonia</th>\n",
       "      <th>Typical Appearance</th>\n",
       "      <th>Indeterminate Appearance</th>\n",
       "      <th>Atypical Appearance</th>\n",
       "    </tr>\n",
       "  </thead>\n",
       "  <tbody>\n",
       "    <tr>\n",
       "      <th>0</th>\n",
       "      <td>000a312787f2_image</td>\n",
       "      <td>[{'x': 789.28836, 'y': 582.43035, 'width': 102...</td>\n",
       "      <td>opacity 1 789.28836 582.43035 1815.94498 2499....</td>\n",
       "      <td>5776db0cec75_study</td>\n",
       "      <td>opacity</td>\n",
       "      <td>0</td>\n",
       "      <td>1</td>\n",
       "      <td>0</td>\n",
       "      <td>0</td>\n",
       "    </tr>\n",
       "    <tr>\n",
       "      <th>1</th>\n",
       "      <td>000c3a3f293f_image</td>\n",
       "      <td>NaN</td>\n",
       "      <td>none 1 0 0 1 1</td>\n",
       "      <td>ff0879eb20ed_study</td>\n",
       "      <td>none</td>\n",
       "      <td>1</td>\n",
       "      <td>0</td>\n",
       "      <td>0</td>\n",
       "      <td>0</td>\n",
       "    </tr>\n",
       "    <tr>\n",
       "      <th>2</th>\n",
       "      <td>0012ff7358bc_image</td>\n",
       "      <td>[{'x': 677.42216, 'y': 197.97662, 'width': 867...</td>\n",
       "      <td>opacity 1 677.42216 197.97662 1545.21983 1197....</td>\n",
       "      <td>9d514ce429a7_study</td>\n",
       "      <td>opacity</td>\n",
       "      <td>0</td>\n",
       "      <td>1</td>\n",
       "      <td>0</td>\n",
       "      <td>0</td>\n",
       "    </tr>\n",
       "    <tr>\n",
       "      <th>3</th>\n",
       "      <td>001398f4ff4f_image</td>\n",
       "      <td>[{'x': 2729, 'y': 2181.33331, 'width': 948.000...</td>\n",
       "      <td>opacity 1 2729 2181.33331 3677.00012 2785.33331</td>\n",
       "      <td>28dddc8559b2_study</td>\n",
       "      <td>opacity</td>\n",
       "      <td>0</td>\n",
       "      <td>0</td>\n",
       "      <td>0</td>\n",
       "      <td>1</td>\n",
       "    </tr>\n",
       "    <tr>\n",
       "      <th>4</th>\n",
       "      <td>001bd15d1891_image</td>\n",
       "      <td>[{'x': 623.23328, 'y': 1050, 'width': 714, 'he...</td>\n",
       "      <td>opacity 1 623.23328 1050 1337.23328 2156 opaci...</td>\n",
       "      <td>dfd9fdd85a3e_study</td>\n",
       "      <td>opacity</td>\n",
       "      <td>0</td>\n",
       "      <td>1</td>\n",
       "      <td>0</td>\n",
       "      <td>0</td>\n",
       "    </tr>\n",
       "  </tbody>\n",
       "</table>\n",
       "</div>"
      ],
      "text/plain": [
       "             Image_id                                              boxes  \\\n",
       "0  000a312787f2_image  [{'x': 789.28836, 'y': 582.43035, 'width': 102...   \n",
       "1  000c3a3f293f_image                                                NaN   \n",
       "2  0012ff7358bc_image  [{'x': 677.42216, 'y': 197.97662, 'width': 867...   \n",
       "3  001398f4ff4f_image  [{'x': 2729, 'y': 2181.33331, 'width': 948.000...   \n",
       "4  001bd15d1891_image  [{'x': 623.23328, 'y': 1050, 'width': 714, 'he...   \n",
       "\n",
       "                                               label    StudyInstanceUID  \\\n",
       "0  opacity 1 789.28836 582.43035 1815.94498 2499....  5776db0cec75_study   \n",
       "1                                     none 1 0 0 1 1  ff0879eb20ed_study   \n",
       "2  opacity 1 677.42216 197.97662 1545.21983 1197....  9d514ce429a7_study   \n",
       "3    opacity 1 2729 2181.33331 3677.00012 2785.33331  28dddc8559b2_study   \n",
       "4  opacity 1 623.23328 1050 1337.23328 2156 opaci...  dfd9fdd85a3e_study   \n",
       "\n",
       "  label_class  Negative for Pneumonia  Typical Appearance  \\\n",
       "0     opacity                       0                   1   \n",
       "1        none                       1                   0   \n",
       "2     opacity                       0                   1   \n",
       "3     opacity                       0                   0   \n",
       "4     opacity                       0                   1   \n",
       "\n",
       "   Indeterminate Appearance  Atypical Appearance  \n",
       "0                         0                    0  \n",
       "1                         0                    0  \n",
       "2                         0                    0  \n",
       "3                         0                    1  \n",
       "4                         0                    0  "
      ]
     },
     "execution_count": 16,
     "metadata": {},
     "output_type": "execute_result"
    }
   ],
   "source": [
    "main_df = train_image_level.merge(train_study_level, left_on = 'StudyInstanceUID', right_on =  'id')\n",
    "main_df.drop(columns = 'id_y', inplace = True)\n",
    "main_df.rename(columns = {'id_x': 'Image_id'}, inplace= True)\n",
    "main_df.head()"
   ]
  },
  {
   "cell_type": "code",
   "execution_count": 17,
   "metadata": {},
   "outputs": [
    {
     "data": {
      "text/plain": [
       "(6334, 9)"
      ]
     },
     "execution_count": 17,
     "metadata": {},
     "output_type": "execute_result"
    }
   ],
   "source": [
    "main_df.shape"
   ]
  },
  {
   "cell_type": "code",
   "execution_count": 18,
   "metadata": {},
   "outputs": [
    {
     "data": {
      "text/plain": [
       "(6334, 3)"
      ]
     },
     "execution_count": 18,
     "metadata": {},
     "output_type": "execute_result"
    }
   ],
   "source": [
    "meta_df.shape"
   ]
  },
  {
   "cell_type": "code",
   "execution_count": 19,
   "metadata": {},
   "outputs": [],
   "source": [
    "main_df = main_df.merge(meta_df, left_on = 'Image_id', right_on = meta_df.index, suffixes=[])"
   ]
  },
  {
   "cell_type": "code",
   "execution_count": 20,
   "metadata": {},
   "outputs": [
    {
     "data": {
      "text/html": [
       "<div>\n",
       "<style scoped>\n",
       "    .dataframe tbody tr th:only-of-type {\n",
       "        vertical-align: middle;\n",
       "    }\n",
       "\n",
       "    .dataframe tbody tr th {\n",
       "        vertical-align: top;\n",
       "    }\n",
       "\n",
       "    .dataframe thead th {\n",
       "        text-align: right;\n",
       "    }\n",
       "</style>\n",
       "<table border=\"1\" class=\"dataframe\">\n",
       "  <thead>\n",
       "    <tr style=\"text-align: right;\">\n",
       "      <th></th>\n",
       "      <th>Image_id</th>\n",
       "      <th>boxes</th>\n",
       "      <th>label</th>\n",
       "      <th>StudyInstanceUID</th>\n",
       "      <th>label_class</th>\n",
       "      <th>Negative for Pneumonia</th>\n",
       "      <th>Typical Appearance</th>\n",
       "      <th>Indeterminate Appearance</th>\n",
       "      <th>Atypical Appearance</th>\n",
       "      <th>Height</th>\n",
       "      <th>Width</th>\n",
       "      <th>Sex</th>\n",
       "    </tr>\n",
       "  </thead>\n",
       "  <tbody>\n",
       "    <tr>\n",
       "      <th>0</th>\n",
       "      <td>000a312787f2_image</td>\n",
       "      <td>[{'x': 789.28836, 'y': 582.43035, 'width': 102...</td>\n",
       "      <td>opacity 1 789.28836 582.43035 1815.94498 2499....</td>\n",
       "      <td>5776db0cec75_study</td>\n",
       "      <td>opacity</td>\n",
       "      <td>0</td>\n",
       "      <td>1</td>\n",
       "      <td>0</td>\n",
       "      <td>0</td>\n",
       "      <td>3488</td>\n",
       "      <td>4256</td>\n",
       "      <td>M</td>\n",
       "    </tr>\n",
       "    <tr>\n",
       "      <th>1</th>\n",
       "      <td>000c3a3f293f_image</td>\n",
       "      <td>NaN</td>\n",
       "      <td>none 1 0 0 1 1</td>\n",
       "      <td>ff0879eb20ed_study</td>\n",
       "      <td>none</td>\n",
       "      <td>1</td>\n",
       "      <td>0</td>\n",
       "      <td>0</td>\n",
       "      <td>0</td>\n",
       "      <td>2320</td>\n",
       "      <td>2832</td>\n",
       "      <td>M</td>\n",
       "    </tr>\n",
       "    <tr>\n",
       "      <th>2</th>\n",
       "      <td>0012ff7358bc_image</td>\n",
       "      <td>[{'x': 677.42216, 'y': 197.97662, 'width': 867...</td>\n",
       "      <td>opacity 1 677.42216 197.97662 1545.21983 1197....</td>\n",
       "      <td>9d514ce429a7_study</td>\n",
       "      <td>opacity</td>\n",
       "      <td>0</td>\n",
       "      <td>1</td>\n",
       "      <td>0</td>\n",
       "      <td>0</td>\n",
       "      <td>2544</td>\n",
       "      <td>3056</td>\n",
       "      <td>F</td>\n",
       "    </tr>\n",
       "    <tr>\n",
       "      <th>3</th>\n",
       "      <td>001398f4ff4f_image</td>\n",
       "      <td>[{'x': 2729, 'y': 2181.33331, 'width': 948.000...</td>\n",
       "      <td>opacity 1 2729 2181.33331 3677.00012 2785.33331</td>\n",
       "      <td>28dddc8559b2_study</td>\n",
       "      <td>opacity</td>\n",
       "      <td>0</td>\n",
       "      <td>0</td>\n",
       "      <td>0</td>\n",
       "      <td>1</td>\n",
       "      <td>3520</td>\n",
       "      <td>4280</td>\n",
       "      <td>F</td>\n",
       "    </tr>\n",
       "    <tr>\n",
       "      <th>4</th>\n",
       "      <td>001bd15d1891_image</td>\n",
       "      <td>[{'x': 623.23328, 'y': 1050, 'width': 714, 'he...</td>\n",
       "      <td>opacity 1 623.23328 1050 1337.23328 2156 opaci...</td>\n",
       "      <td>dfd9fdd85a3e_study</td>\n",
       "      <td>opacity</td>\n",
       "      <td>0</td>\n",
       "      <td>1</td>\n",
       "      <td>0</td>\n",
       "      <td>0</td>\n",
       "      <td>2800</td>\n",
       "      <td>3408</td>\n",
       "      <td>M</td>\n",
       "    </tr>\n",
       "  </tbody>\n",
       "</table>\n",
       "</div>"
      ],
      "text/plain": [
       "             Image_id                                              boxes  \\\n",
       "0  000a312787f2_image  [{'x': 789.28836, 'y': 582.43035, 'width': 102...   \n",
       "1  000c3a3f293f_image                                                NaN   \n",
       "2  0012ff7358bc_image  [{'x': 677.42216, 'y': 197.97662, 'width': 867...   \n",
       "3  001398f4ff4f_image  [{'x': 2729, 'y': 2181.33331, 'width': 948.000...   \n",
       "4  001bd15d1891_image  [{'x': 623.23328, 'y': 1050, 'width': 714, 'he...   \n",
       "\n",
       "                                               label    StudyInstanceUID  \\\n",
       "0  opacity 1 789.28836 582.43035 1815.94498 2499....  5776db0cec75_study   \n",
       "1                                     none 1 0 0 1 1  ff0879eb20ed_study   \n",
       "2  opacity 1 677.42216 197.97662 1545.21983 1197....  9d514ce429a7_study   \n",
       "3    opacity 1 2729 2181.33331 3677.00012 2785.33331  28dddc8559b2_study   \n",
       "4  opacity 1 623.23328 1050 1337.23328 2156 opaci...  dfd9fdd85a3e_study   \n",
       "\n",
       "  label_class  Negative for Pneumonia  Typical Appearance  \\\n",
       "0     opacity                       0                   1   \n",
       "1        none                       1                   0   \n",
       "2     opacity                       0                   1   \n",
       "3     opacity                       0                   0   \n",
       "4     opacity                       0                   1   \n",
       "\n",
       "   Indeterminate Appearance  Atypical Appearance  Height  Width Sex  \n",
       "0                         0                    0    3488   4256   M  \n",
       "1                         0                    0    2320   2832   M  \n",
       "2                         0                    0    2544   3056   F  \n",
       "3                         0                    1    3520   4280   F  \n",
       "4                         0                    0    2800   3408   M  "
      ]
     },
     "execution_count": 20,
     "metadata": {},
     "output_type": "execute_result"
    }
   ],
   "source": [
    "main_df.head()"
   ]
  },
  {
   "cell_type": "code",
   "execution_count": 18,
   "metadata": {},
   "outputs": [],
   "source": [
    "main_df['boxes'] = main_df['boxes'].apply(lambda x: ast.literal_eval(x) if x is not np.nan else x)"
   ]
  },
  {
   "cell_type": "code",
   "execution_count": 23,
   "metadata": {},
   "outputs": [],
   "source": [
    "main_df.to_csv(os.path.join(data_path, 'main.csv'), index= False )"
   ]
  },
  {
   "cell_type": "code",
   "execution_count": 20,
   "metadata": {},
   "outputs": [],
   "source": [
    "ids_with_opacity = list(main_df[main_df.label_class == 'opacity'].index)\n",
    "ids_with_none = list(main_df[main_df.label_class != 'opacity'].index)"
   ]
  },
  {
   "cell_type": "code",
   "execution_count": 21,
   "metadata": {},
   "outputs": [
    {
     "data": {
      "text/plain": [
       "(4294, 2040)"
      ]
     },
     "execution_count": 21,
     "metadata": {},
     "output_type": "execute_result"
    }
   ],
   "source": [
    "len(ids_with_opacity), len(ids_with_none)"
   ]
  },
  {
   "cell_type": "code",
   "execution_count": 11,
   "metadata": {},
   "outputs": [],
   "source": [
    "object_detection_files_path = os.path.join(data_path, 'object_detection_files')\n",
    "if not os.path.isdir(object_detection_files_path):\n",
    "    os.makedirs(object_detection_files_path)"
   ]
  },
  {
   "cell_type": "code",
   "execution_count": 410,
   "metadata": {},
   "outputs": [],
   "source": [
    "def create_image_info_dict(idx, df, file_name_col):\n",
    "    image_info  = {}\n",
    "    image_info['id'] = idx\n",
    "    image_info['file_name'] = df.loc[i, file_name_col] + '.png'\n",
    "    image_info['height'] = int(df.loc[i, 'Height'])\n",
    "    image_info['width'] = int(df.loc[i, 'Width'])\n",
    "    return image_info"
   ]
  },
  {
   "cell_type": "code",
   "execution_count": 411,
   "metadata": {},
   "outputs": [],
   "source": [
    "def get_annotations(idx, df):\n",
    "    annots = []\n",
    "    boxes = df.loc[idx, 'boxes']\n",
    "    for index, box in enumerate(boxes):\n",
    "        annot_dict = {}\n",
    "        annot_dict['image_id'] = idx\n",
    "        box_as_list = list(box.values())\n",
    "        annot_dict['bbox'] = box_as_list\n",
    "        annot_dict['area'] = round((box_as_list[-2]*box_as_list[-1])/(df.loc[idx, 'Height']*df.loc[idx, 'Width']),2)\n",
    "        annot_dict['category_id'] = 1 # 0 is for background\n",
    "        annot_dict['id'] = index+1\n",
    "        annots.append(annot_dict)\n",
    "    return annots"
   ]
  },
  {
   "cell_type": "code",
   "execution_count": 19,
   "metadata": {},
   "outputs": [
    {
     "ename": "TypeError",
     "evalue": "create_image_info_dict() missing 2 required positional arguments: 'height' and 'width'",
     "output_type": "error",
     "traceback": [
      "\u001b[1;31m---------------------------------------------------------------------------\u001b[0m",
      "\u001b[1;31mTypeError\u001b[0m                                 Traceback (most recent call last)",
      "\u001b[1;32m<ipython-input-19-1af04b598212>\u001b[0m in \u001b[0;36m<module>\u001b[1;34m\u001b[0m\n\u001b[0;32m     30\u001b[0m                 \u001b[0mvalid_annot_info\u001b[0m\u001b[1;33m.\u001b[0m\u001b[0mextend\u001b[0m\u001b[1;33m(\u001b[0m\u001b[0mget_annotations\u001b[0m\u001b[1;33m(\u001b[0m\u001b[0mi\u001b[0m\u001b[1;33m,\u001b[0m \u001b[0mmain_df\u001b[0m\u001b[1;33m)\u001b[0m\u001b[1;33m)\u001b[0m\u001b[1;33m\u001b[0m\u001b[1;33m\u001b[0m\u001b[0m\n\u001b[0;32m     31\u001b[0m         \u001b[1;32melse\u001b[0m\u001b[1;33m:\u001b[0m\u001b[1;33m\u001b[0m\u001b[1;33m\u001b[0m\u001b[0m\n\u001b[1;32m---> 32\u001b[1;33m             \u001b[0mtrain_images_info\u001b[0m\u001b[1;33m.\u001b[0m\u001b[0mappend\u001b[0m\u001b[1;33m(\u001b[0m\u001b[0mcreate_image_info_dict\u001b[0m\u001b[1;33m(\u001b[0m\u001b[0mi\u001b[0m\u001b[1;33m,\u001b[0m \u001b[0mmain_df\u001b[0m\u001b[1;33m,\u001b[0m \u001b[1;34m'Image_id'\u001b[0m\u001b[1;33m)\u001b[0m\u001b[1;33m)\u001b[0m\u001b[1;33m\u001b[0m\u001b[1;33m\u001b[0m\u001b[0m\n\u001b[0m\u001b[0;32m     33\u001b[0m             \u001b[0mtrain_annot_info\u001b[0m\u001b[1;33m.\u001b[0m\u001b[0mextend\u001b[0m\u001b[1;33m(\u001b[0m\u001b[0mget_annotations\u001b[0m\u001b[1;33m(\u001b[0m\u001b[0mi\u001b[0m\u001b[1;33m,\u001b[0m \u001b[0mmain_df\u001b[0m\u001b[1;33m)\u001b[0m\u001b[1;33m)\u001b[0m\u001b[1;33m\u001b[0m\u001b[1;33m\u001b[0m\u001b[0m\n\u001b[0;32m     34\u001b[0m     \u001b[0mvalid_info_dict\u001b[0m \u001b[1;33m=\u001b[0m \u001b[1;33m{\u001b[0m\u001b[1;34m'images'\u001b[0m\u001b[1;33m:\u001b[0m \u001b[0mvalid_images_info\u001b[0m\u001b[1;33m}\u001b[0m\u001b[1;33m\u001b[0m\u001b[1;33m\u001b[0m\u001b[0m\n",
      "\u001b[1;31mTypeError\u001b[0m: create_image_info_dict() missing 2 required positional arguments: 'height' and 'width'"
     ]
    }
   ],
   "source": [
    "\n",
    "for fold in range(5):\n",
    "    image_info_file_path = os.path.join(object_detection_files_path, f'files_fold_{fold}')\n",
    "    # Make fold directory\n",
    "    if not os.path.isdir(image_info_file_path):\n",
    "        os.makedirs(image_info_file_path)\n",
    "    \n",
    "    # Validation indexes\n",
    "    val_idx = ids_with_none\n",
    "    val_op_idx = np.random.choice(ids_with_opacity, size = 500)\n",
    "    val_idx.extend(val_op_idx)\n",
    "    \n",
    "    # Training indexes\n",
    "    train_idx = [idx for idx in ids_with_opacity if idx not in val_idx]\n",
    "\n",
    "    \n",
    "    # Make train and valid directories inside each folds folder\n",
    "    train_path = os.path.join(image_info_file_path, 'train')\n",
    "    valid_path = os.path.join(image_info_file_path, 'valid')\n",
    "    if not os.path.isdir(train_path):\n",
    "        os.makedirs(train_path)\n",
    "        os.makedirs(valid_path)\n",
    "    \n",
    "    # Create dictionaries to store image and annotations information\n",
    "    train_images_info, valid_images_info = [[],[]]\n",
    "    train_annot_info, valid_annot_info = [[],[]]\n",
    "    for i in list(main_df.index):\n",
    "        if i in val_idx:\n",
    "            valid_images_info.append(create_image_info_dict(i, main_df, 'Image_id'))\n",
    "            if i not in ids_with_none:\n",
    "                valid_annot_info.extend(get_annotations(i, main_df))\n",
    "        else:\n",
    "            train_images_info.append(create_image_info_dict(i, main_df, 'Image_id'))\n",
    "            train_annot_info.extend(get_annotations(i, main_df))\n",
    "    valid_info_dict = {'images': valid_images_info}\n",
    "    train_info_dict = {'images': train_images_info}\n",
    "    \n",
    "    # Dump image information dictionaries\n",
    "    with open(os.path.join(train_path, 'images_info.json'), 'w') as train_file:\n",
    "        json.dump(train_info_dict, train_file)\n",
    "    with open(os.path.join(valid_path, 'images_info.json'), 'w') as valid_file:\n",
    "        json.dump(valid_info_dict, valid_file)\n",
    "    \n",
    "    \n",
    "    train_annot_dict = {'images': train_images_info,\n",
    "                       'annotations': train_annot_info, \n",
    "                       'categories': {'id': 1, 'name': 'opacity'}}\n",
    "    valid_annot_dict = {'images': valid_images_info,\n",
    "                       'annotations': valid_annot_info, \n",
    "                       'categories': {'id': 1, 'name': 'opacity'}}\n",
    "    \n",
    "    # Dump image information dictionaries\n",
    "    with open(os.path.join(train_path, 'object_detection_info.json'), 'w') as train_file:\n",
    "        json.dump(train_annot_dict, train_file)\n",
    "    with open(os.path.join(valid_path, 'object_detection_info.json'), 'w') as valid_file:\n",
    "        json.dump(valid_annot_dict, valid_file)        "
   ]
  },
  {
   "cell_type": "markdown",
   "metadata": {},
   "source": [
    "### Create object detection tfrecords dataset for 1080px resolution"
   ]
  },
  {
   "cell_type": "code",
   "execution_count": 22,
   "metadata": {},
   "outputs": [],
   "source": [
    "data_path_1080px = os.path.join(data_path, '1080px')\n",
    "object_detection_files_path = os.path.join(data_path_1080px, 'object_detection_files')\n",
    "if not os.path.isdir(object_detection_files_path):\n",
    "    os.makedirs(object_detection_files_path)"
   ]
  },
  {
   "cell_type": "code",
   "execution_count": 23,
   "metadata": {},
   "outputs": [],
   "source": [
    "def create_image_info_dict(idx, df, file_name_col, height, width):\n",
    "    image_info  = {}\n",
    "    image_info['id'] = idx\n",
    "    image_info['file_name'] = df.loc[i, file_name_col] + '.png'\n",
    "    image_info['height'] = height \n",
    "    image_info['width'] = width\n",
    "    return image_info"
   ]
  },
  {
   "cell_type": "code",
   "execution_count": 24,
   "metadata": {},
   "outputs": [],
   "source": [
    "def get_annotations(idx, df, targ_height, targ_width):\n",
    "    annots = []\n",
    "    boxes = df.loc[idx, 'boxes']\n",
    "    orig_height = df.loc[idx, 'Height']\n",
    "    orig_width = df.loc[idx, 'Width']\n",
    "    \n",
    "    for index, box in enumerate(boxes):\n",
    "        annot_dict = {}\n",
    "        annot_dict['image_id'] = idx\n",
    "        box_as_list = list(box.values())\n",
    "        box_as_list[0] = box_as_list[0]/orig_width* targ_width # x\n",
    "        box_as_list[1] = box_as_list[1]/orig_height* targ_height # y\n",
    "        box_as_list[2] = box_as_list[2]/orig_width* targ_width # width\n",
    "        box_as_list[3] = box_as_list[3]/orig_height* targ_height # height\n",
    "        annot_dict['bbox'] = box_as_list\n",
    "        annot_dict['area'] = round((box_as_list[-2]*box_as_list[-1])/(targ_height*targ_width),2)\n",
    "        annot_dict['category_id'] = 1 # 0 is for background\n",
    "        annot_dict['id'] = index+1\n",
    "        annots.append(annot_dict)\n",
    "    return annots"
   ]
  },
  {
   "cell_type": "code",
   "execution_count": 25,
   "metadata": {},
   "outputs": [],
   "source": [
    "targ_height, targ_width = (1080,1080)\n",
    "for fold in range(5):\n",
    "    image_info_file_path = os.path.join(object_detection_files_path, f'files_fold_{fold}')\n",
    "    # Make fold directory\n",
    "    if not os.path.isdir(image_info_file_path):\n",
    "        os.makedirs(image_info_file_path)\n",
    "    \n",
    "    # Validation indexes\n",
    "    val_idx = ids_with_none\n",
    "    val_op_idx = np.random.choice(ids_with_opacity, size = 500)\n",
    "    val_idx.extend(val_op_idx)\n",
    "    \n",
    "    # Training indexes\n",
    "    train_idx = [idx for idx in ids_with_opacity if idx not in val_idx]\n",
    "\n",
    "    \n",
    "    # Make train and valid directories inside each folds folder\n",
    "    train_path = os.path.join(image_info_file_path, 'train')\n",
    "    valid_path = os.path.join(image_info_file_path, 'valid')\n",
    "    if not os.path.isdir(train_path):\n",
    "        os.makedirs(train_path)\n",
    "        os.makedirs(valid_path)\n",
    "    \n",
    "    # Create dictionaries to store image and annotations information\n",
    "    train_images_info, valid_images_info = [[],[]]\n",
    "    train_annot_info, valid_annot_info = [[],[]]\n",
    "    for i in list(main_df.index):\n",
    "        if i in val_idx:\n",
    "            valid_images_info.append(create_image_info_dict(i, main_df, 'Image_id', targ_height, targ_width))\n",
    "            if i not in ids_with_none:\n",
    "                valid_annot_info.extend(get_annotations(i, main_df, targ_height, targ_width))\n",
    "        else:\n",
    "            train_images_info.append(create_image_info_dict(i, main_df, 'Image_id', targ_height, targ_width))\n",
    "            train_annot_info.extend(get_annotations(i, main_df, targ_height, targ_width))\n",
    "    valid_info_dict = {'images': valid_images_info}\n",
    "    train_info_dict = {'images': train_images_info}\n",
    "    \n",
    "    # Dump image information dictionaries\n",
    "    with open(os.path.join(train_path, 'images_info.json'), 'w') as train_file:\n",
    "        json.dump(train_info_dict, train_file)\n",
    "    with open(os.path.join(valid_path, 'images_info.json'), 'w') as valid_file:\n",
    "        json.dump(valid_info_dict, valid_file)\n",
    "    \n",
    "    \n",
    "    train_annot_dict = {'images': train_images_info,\n",
    "                       'annotations': train_annot_info, \n",
    "                       'categories': [{'id': 1, 'name': 'opacity'}]}\n",
    "    valid_annot_dict = {'images': valid_images_info,\n",
    "                       'annotations': valid_annot_info, \n",
    "                       'categories': [{'id': 1, 'name': 'opacity'}]}\n",
    "    \n",
    "    # Dump image information dictionaries\n",
    "    with open(os.path.join(train_path, 'object_detection_info.json'), 'w') as train_file:\n",
    "        json.dump(train_annot_dict, train_file)\n",
    "    with open(os.path.join(valid_path, 'object_detection_info.json'), 'w') as valid_file:\n",
    "        json.dump(valid_annot_dict, valid_file)        "
   ]
  },
  {
   "cell_type": "markdown",
   "metadata": {},
   "source": [
    "### Create tfrecords"
   ]
  },
  {
   "cell_type": "code",
   "execution_count": 1,
   "metadata": {},
   "outputs": [],
   "source": [
    "# Import libraries\n",
    "import os\n",
    "import numpy as np\n",
    "import pathlib\n",
    "import pandas as pd\n",
    "import tensorflow as tf\n",
    "import tensorflow_addons as tfa\n",
    "tf.get_logger().setLevel('INFO')\n",
    "\n",
    "from joblib import Parallel, delayed\n",
    "import warnings\n",
    "warnings.filterwarnings('ignore')\n",
    "import PIL\n",
    "import cv2\n",
    "import matplotlib.pyplot as plt\n",
    "import ast\n",
    "import random\n",
    "import sys\n",
    "import pydicom\n",
    "from pydicom.pixel_data_handlers.util import apply_voi_lut\n",
    "# Appending to sys paths\n",
    "effnet_path = os.path.join(os.getcwd(), 'efficientdetv2')\n",
    "sys.path.append(effnet_path)\n",
    "sys.path.append(os.path.join(os.getcwd(), 'efficientdetv2', 'automl', 'efficientdet'))\n",
    "from efficientdetv2.automl.efficientdet.dataset import create_covid_19_tfrecord"
   ]
  },
  {
   "cell_type": "code",
   "execution_count": 2,
   "metadata": {},
   "outputs": [],
   "source": [
    "data_path = r'D:\\Datasets\\siim_covid19_detection'\n",
    "data_path_1080px = os.path.join(data_path, '1080px')"
   ]
  },
  {
   "cell_type": "code",
   "execution_count": 3,
   "metadata": {},
   "outputs": [],
   "source": [
    "main_df = pd.read_csv(os.path.join(data_path, 'main.csv'))"
   ]
  },
  {
   "cell_type": "code",
   "execution_count": 4,
   "metadata": {
    "scrolled": true
   },
   "outputs": [
    {
     "name": "stdout",
     "output_type": "stream",
     "text": [
      "{1: {'id': 1, 'name': 'opacity'}}\n",
      "{1: {'id': 1, 'name': 'opacity'}}\n",
      "{1: {'id': 1, 'name': 'opacity'}}\n",
      "{1: {'id': 1, 'name': 'opacity'}}\n",
      "{1: {'id': 1, 'name': 'opacity'}}\n"
     ]
    }
   ],
   "source": [
    "# For Training \n",
    "for fold in range(5):\n",
    "    image_info_file = os.path.join(data_path_1080px, 'object_detection_files', f'files_fold_{fold}', 'train', 'images_info.json') \n",
    "    image_dir = os.path.join(data_path_1080px, 'train', 'image')\n",
    "    output_path =os.path.join(data_path_1080px, 'tfrecords', f'fold_{fold}', 'train')\n",
    "    os.makedirs(output_path, exist_ok= True)\n",
    "    num_shards = 32\n",
    "    object_annotations_file= os.path.join(data_path_1080px,'object_detection_files', f'files_fold_{fold}', 'train', 'object_detection_info.json')\n",
    "    create_covid_19_tfrecord._create_tf_record_from_covid_19_annotations(image_info_file, image_dir, output_path, num_shards,\n",
    "                                                                        object_annotations_file)"
   ]
  },
  {
   "cell_type": "code",
   "execution_count": 6,
   "metadata": {
    "scrolled": true
   },
   "outputs": [
    {
     "name": "stdout",
     "output_type": "stream",
     "text": [
      "{1: {'id': 1, 'name': 'opacity'}}\n",
      "{1: {'id': 1, 'name': 'opacity'}}\n",
      "{1: {'id': 1, 'name': 'opacity'}}\n",
      "{1: {'id': 1, 'name': 'opacity'}}\n",
      "{1: {'id': 1, 'name': 'opacity'}}\n"
     ]
    }
   ],
   "source": [
    "# For validation\n",
    "split = 'valid'\n",
    "for fold in range(5):\n",
    "    image_info_file = os.path.join(data_path_1080px, 'object_detection_files', f'files_fold_{fold}', split, 'images_info.json') \n",
    "    image_dir = os.path.join(data_path_1080px, 'train', 'image')\n",
    "    output_path =os.path.join(data_path_1080px, 'tfrecords', f'fold_{fold}', split)\n",
    "    os.makedirs(output_path, exist_ok= True)\n",
    "    num_shards = 32\n",
    "    object_annotations_file= os.path.join(data_path_1080px,'object_detection_files', f'files_fold_{fold}', split, 'object_detection_info.json')\n",
    "    create_covid_19_tfrecord._create_tf_record_from_covid_19_annotations(image_info_file, image_dir, output_path, num_shards,\n",
    "                                                                        object_annotations_file)"
   ]
  },
  {
   "cell_type": "code",
   "execution_count": 16,
   "metadata": {},
   "outputs": [
    {
     "data": {
      "text/plain": [
       "<tf.Tensor: shape=(), dtype=int32, numpy=1>"
      ]
     },
     "execution_count": 16,
     "metadata": {},
     "output_type": "execute_result"
    }
   ],
   "source": [
    "tf.shape(tf.expand_dims(tf.constant([4,3,5]), -1))[1]"
   ]
  },
  {
   "cell_type": "code",
   "execution_count": 12,
   "metadata": {},
   "outputs": [
    {
     "data": {
      "text/plain": [
       "[3, 1]"
      ]
     },
     "execution_count": 12,
     "metadata": {},
     "output_type": "execute_result"
    }
   ],
   "source": [
    "tf.expand_dims(tf.constant([4,3,5]), -1).shape.as_list()"
   ]
  },
  {
   "cell_type": "code",
   "execution_count": 37,
   "metadata": {},
   "outputs": [
    {
     "data": {
      "text/plain": [
       "<tf.Tensor: shape=(7, 4), dtype=float32, numpy=\n",
       "array([[0.        , 0.        , 0.        , 0.        ],\n",
       "       [0.        , 0.        , 0.        , 0.        ],\n",
       "       [0.44013572, 0.13725257, 0.4837637 , 0.27637935],\n",
       "       [0.3956014 , 0.68841624, 0.8597882 , 0.2992519 ],\n",
       "       [0.6738144 , 0.07710135, 0.30445337, 0.888929  ],\n",
       "       [0.4457544 , 0.40169072, 0.15376341, 0.12624729],\n",
       "       [0.44943154, 0.31900883, 0.34198284, 0.163414  ]], dtype=float32)>"
      ]
     },
     "execution_count": 37,
     "metadata": {},
     "output_type": "execute_result"
    }
   ],
   "source": [
    "ignored_value = tf.zeros(4)\n",
    "unmatched_value = tf.zeros(4)\n",
    "input_tensor = tf.random.uniform((5,4))\n",
    "tf.concat([tf.stack([ignored_value, unmatched_value]),\n",
    "                              input_tensor], axis=0)"
   ]
  },
  {
   "cell_type": "code",
   "execution_count": 35,
   "metadata": {},
   "outputs": [
    {
     "data": {
      "text/plain": [
       "<tf.Tensor: shape=(4, 4), dtype=float32, numpy=\n",
       "array([[0.        , 0.        , 0.        , 0.        ],\n",
       "       [0.41042364, 0.44311905, 0.36754072, 0.8006016 ],\n",
       "       [0.8837333 , 0.6250452 , 0.5993353 , 0.97363925],\n",
       "       [0.8627362 , 0.7240653 , 0.47522664, 0.06449366]], dtype=float32)>"
      ]
     },
     "execution_count": 35,
     "metadata": {},
     "output_type": "execute_result"
    }
   ],
   "source": [
    "tf.gather(tf.concat([tf.stack([ignored_value, unmatched_value]),\n",
    "                              input_tensor], axis=0), [0,2,4,5])"
   ]
  },
  {
   "cell_type": "code",
   "execution_count": 32,
   "metadata": {},
   "outputs": [
    {
     "data": {
      "text/plain": [
       "<tf.Tensor: shape=(5, 4), dtype=float32, numpy=\n",
       "array([[0.8627362 , 0.7240653 , 0.47522664, 0.06449366],\n",
       "       [0.27167726, 0.6867018 , 0.6009382 , 0.54461527],\n",
       "       [0.8627362 , 0.7240653 , 0.47522664, 0.06449366],\n",
       "       [0.41042364, 0.44311905, 0.36754072, 0.8006016 ],\n",
       "       [0.8627362 , 0.7240653 , 0.47522664, 0.06449366]], dtype=float32)>"
      ]
     },
     "execution_count": 32,
     "metadata": {},
     "output_type": "execute_result"
    }
   ],
   "source": [
    "tf.gather(input_tensor, tf.arg_max(input_tensor, 1))"
   ]
  },
  {
   "cell_type": "code",
   "execution_count": 23,
   "metadata": {},
   "outputs": [],
   "source": [
    "import tensorflow.compat.v1 as tf"
   ]
  },
  {
   "cell_type": "code",
   "execution_count": 39,
   "metadata": {},
   "outputs": [
    {
     "data": {
      "text/plain": [
       "<tf.Tensor: shape=(5, 4), dtype=float32, numpy=\n",
       "array([[1., 1., 1., 1.],\n",
       "       [1., 1., 1., 1.],\n",
       "       [1., 1., 1., 1.],\n",
       "       [1., 1., 1., 1.],\n",
       "       [1., 1., 1., 1.]], dtype=float32)>"
      ]
     },
     "execution_count": 39,
     "metadata": {},
     "output_type": "execute_result"
    }
   ],
   "source": [
    "tf.tile(tf.ones((1,4)), [5,1])"
   ]
  },
  {
   "cell_type": "code",
   "execution_count": 40,
   "metadata": {},
   "outputs": [
    {
     "data": {
      "text/plain": [
       "'D:\\\\Datasets\\\\siim_covid19_detection\\\\1080px\\\\tfrecords\\\\fold_4\\\\valid'"
      ]
     },
     "execution_count": 40,
     "metadata": {},
     "output_type": "execute_result"
    }
   ],
   "source": [
    "output_path"
   ]
  },
  {
   "cell_type": "code",
   "execution_count": 50,
   "metadata": {},
   "outputs": [
    {
     "data": {
      "text/plain": [
       "160"
      ]
     },
     "execution_count": 50,
     "metadata": {},
     "output_type": "execute_result"
    }
   ],
   "source": [
    "len(list((tf.data.Dataset.list_files('D:\\\\Datasets\\\\siim_covid19_detection\\\\1080px\\\\tfrecords\\\\*\\\\train\\\\*').as_numpy_iterator())))"
   ]
  },
  {
   "cell_type": "code",
   "execution_count": null,
   "metadata": {},
   "outputs": [],
   "source": []
  }
 ],
 "metadata": {
  "kernelspec": {
   "display_name": "covid_19",
   "language": "python",
   "name": "covid_19"
  },
  "language_info": {
   "codemirror_mode": {
    "name": "ipython",
    "version": 3
   },
   "file_extension": ".py",
   "mimetype": "text/x-python",
   "name": "python",
   "nbconvert_exporter": "python",
   "pygments_lexer": "ipython3",
   "version": "3.8.6"
  },
  "latex_envs": {
   "LaTeX_envs_menu_present": true,
   "autoclose": false,
   "autocomplete": true,
   "bibliofile": "biblio.bib",
   "cite_by": "apalike",
   "current_citInitial": 1,
   "eqLabelWithNumbers": true,
   "eqNumInitial": 1,
   "hotkeys": {
    "equation": "Ctrl-E",
    "itemize": "Ctrl-I"
   },
   "labels_anchors": false,
   "latex_user_defs": false,
   "report_style_numbering": false,
   "user_envs_cfg": false
  },
  "toc": {
   "base_numbering": 1,
   "nav_menu": {},
   "number_sections": true,
   "sideBar": true,
   "skip_h1_title": false,
   "title_cell": "Table of Contents",
   "title_sidebar": "Contents",
   "toc_cell": false,
   "toc_position": {
    "height": "calc(100% - 180px)",
    "left": "10px",
    "top": "150px",
    "width": "229.265px"
   },
   "toc_section_display": true,
   "toc_window_display": true
  },
  "varInspector": {
   "cols": {
    "lenName": 16,
    "lenType": 16,
    "lenVar": 40
   },
   "kernels_config": {
    "python": {
     "delete_cmd_postfix": "",
     "delete_cmd_prefix": "del ",
     "library": "var_list.py",
     "varRefreshCmd": "print(var_dic_list())"
    },
    "r": {
     "delete_cmd_postfix": ") ",
     "delete_cmd_prefix": "rm(",
     "library": "var_list.r",
     "varRefreshCmd": "cat(var_dic_list()) "
    }
   },
   "types_to_exclude": [
    "module",
    "function",
    "builtin_function_or_method",
    "instance",
    "_Feature"
   ],
   "window_display": false
  }
 },
 "nbformat": 4,
 "nbformat_minor": 4
}
